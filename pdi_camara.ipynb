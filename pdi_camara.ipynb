{
  "nbformat": 4,
  "nbformat_minor": 0,
  "metadata": {
    "colab": {
      "provenance": []
    },
    "kernelspec": {
      "name": "python3",
      "display_name": "Python 3"
    },
    "language_info": {
      "name": "python"
    }
  },
  "cells": [
    {
      "cell_type": "markdown",
      "source": [
        "# PIA PDI V6 EQUIPO 2\n",
        "### Importar Librerías"
      ],
      "metadata": {
        "id": "I4OopfAwvbUp"
      }
    },
    {
      "cell_type": "code",
      "source": [
        "import numpy as np\n",
        "import os\n",
        "import tensorflow as tf\n",
        "import tensorflow.io as tfio\n",
        "import matplotlib.pyplot as plt\n",
        "import pandas as pd"
      ],
      "metadata": {
        "id": "eyh8vjaxonbe"
      },
      "execution_count": 22,
      "outputs": []
    },
    {
      "cell_type": "markdown",
      "source": [
        "### Función para obtener una foto de la cámara"
      ],
      "metadata": {
        "id": "RXG9N4HkvgJe"
      }
    },
    {
      "cell_type": "code",
      "source": [
        "from IPython.display import display, Javascript, Image\n",
        "from google.colab.output import eval_js\n",
        "from base64 import b64decode\n",
        "\n",
        "def take_photo(filename='photo.jpg', quality=0.8):\n",
        "  js = Javascript('''\n",
        "    async function takePhoto(quality) {\n",
        "      const div = document.createElement('div');\n",
        "      const capture = document.createElement('button');\n",
        "      capture.textContent = 'Capture';\n",
        "      div.appendChild(capture);\n",
        "\n",
        "      const video = document.createElement('video');\n",
        "      video.style.display = 'block';\n",
        "      const stream = await navigator.mediaDevices.getUserMedia({video: true});\n",
        "\n",
        "      document.body.appendChild(div);\n",
        "      div.appendChild(video);\n",
        "      \n",
        "\n",
        "      video.srcObject = stream;\n",
        "      await video.play();\n",
        "      // Resize the output to fit the video element.\n",
        "      google.colab.output.setIframeHeight(document.documentElement.scrollHeight, true);\n",
        "\n",
        "      //Display the red square\n",
        "      var minDim = Math.min(video.videoWidth, video.videoHeight);\n",
        "\n",
        "      const redBox = document.createElement('canvas');\n",
        "      redBox.width = video.videoWidth;\n",
        "      redBox.height = video.videoHeight;\n",
        "      redBox.style.position = 'relative';\n",
        "      redBox.style.top = `-${video.videoHeight}px`;\n",
        "      ctx = redBox.getContext('2d');\n",
        "      ctx.rect((video.videoWidth - minDim) / 2,\n",
        "               (video.videoHeight - minDim) / 2, \n",
        "               minDim, minDim);\n",
        "      ctx.lineWidth = \"6\";\n",
        "      ctx.strokeStyle = \"red\";\n",
        "      ctx.stroke();\n",
        "\n",
        "      div.appendChild(redBox);\n",
        "\n",
        "      // Wait for Capture to be clicked.\n",
        "      await new Promise((resolve) => capture.onclick = resolve);\n",
        "\n",
        "      const canvas = document.createElement('canvas');\n",
        "      canvas.width = video.videoWidth;\n",
        "      canvas.height = video.videoHeight;\n",
        "      canvas.getContext('2d').drawImage(video, 0, 0);\n",
        "\n",
        "      stream.getVideoTracks()[0].stop();\n",
        "      div.remove();\n",
        "      return canvas.toDataURL('image/jpeg', quality);\n",
        "    }\n",
        "    ''')\n",
        "  display(js)\n",
        "  data = eval_js('takePhoto({})'.format(quality))\n",
        "  binary = b64decode(data.split(',')[1])\n",
        "  with open(filename, 'wb') as f:\n",
        "    f.write(binary)\n",
        "  return filename"
      ],
      "metadata": {
        "id": "lY8bnJG1of5C"
      },
      "execution_count": 2,
      "outputs": []
    },
    {
      "cell_type": "markdown",
      "source": [
        "### Función de preprocesado"
      ],
      "metadata": {
        "id": "sDJex5uDvm3N"
      }
    },
    {
      "cell_type": "code",
      "source": [
        "def preprocess(imagePath):\n",
        "    image = tfio.read_file(imagePath)\n",
        "    image = tfio.decode_image(image)\n",
        "\n",
        "    minDim = min(image.shape[:2])\n",
        "    image = tf.keras.layers.CenterCrop(minDim, minDim)(image)\n",
        "    image = tf.image.resize(image, [200,200])\n",
        "    image = tf.cast(image, tf.float32) / 255.0\n",
        "    \n",
        "    return image"
      ],
      "metadata": {
        "id": "i7BWM7kForG-"
      },
      "execution_count": 3,
      "outputs": []
    },
    {
      "cell_type": "markdown",
      "source": [
        "### Función de obtención de la predicción"
      ],
      "metadata": {
        "id": "pMxjI2Gbv0N4"
      }
    },
    {
      "cell_type": "code",
      "source": [
        "def predict(model, imagePath):\n",
        "    labelsnp = np.array(['A', 'E', 'I', 'O', 'U', 'Nada'])\n",
        "\n",
        "    image = preprocess(imagePath)\n",
        "    prediction = model.predict(tf.expand_dims(image, axis=0))\n",
        "    prediction = prediction * 100\n",
        "\n",
        "    display(Image(tfio.encode_png(\n",
        "        tf.cast(image*255, tf.uint8)).numpy()))\n",
        "\n",
        "    predictionDf = pd.DataFrame(prediction, columns=labelsnp)\n",
        "    display(predictionDf.style\n",
        "            .hide(axis='index')\n",
        "            .format(precision=2))\n",
        "\n",
        "    #print(prediction)\n",
        "    print(f\"Predicción: '{labelsnp[np.argmax(prediction)]}'\\n\")\n",
        "    #return prediction"
      ],
      "metadata": {
        "id": "sDhAo17mK5rm"
      },
      "execution_count": 20,
      "outputs": []
    },
    {
      "cell_type": "markdown",
      "source": [
        "### Importar el modelo"
      ],
      "metadata": {
        "id": "RH-E8MpRv30e"
      }
    },
    {
      "cell_type": "code",
      "source": [
        "#model=tf.keras.models.load_model('pdi15EsigF.h5')\n",
        "model=tf.keras.models.load_model('pdi20EsigF.h5')"
      ],
      "metadata": {
        "id": "mBBP5lLMs43f"
      },
      "execution_count": 5,
      "outputs": []
    },
    {
      "cell_type": "markdown",
      "source": [
        "### Pruebas con la cámara"
      ],
      "metadata": {
        "id": "skc_P2dnv5dD"
      }
    },
    {
      "cell_type": "code",
      "source": [
        "try:\n",
        "    filename = take_photo()\n",
        "    print('Saved to {}'.format(filename))\n",
        "    predict(model, filename)\n",
        "  \n",
        "    # Show the image which was just taken.\n",
        "    #display(Image(filename))\n",
        "except Exception as err:\n",
        "    # Errors will be thrown if the user does not have a webcam or if they do not\n",
        "    # grant the page permission to access it.\n",
        "    print(str(err))"
      ],
      "metadata": {
        "colab": {
          "base_uri": "https://localhost:8080/",
          "height": 350
        },
        "id": "_CJTDfoKof5D",
        "outputId": "eb5b1a7b-c11d-4f0d-afb5-0445af8d8437"
      },
      "execution_count": 21,
      "outputs": [
        {
          "output_type": "display_data",
          "data": {
            "text/plain": [
              "<IPython.core.display.Javascript object>"
            ],
            "application/javascript": [
              "\n",
              "    async function takePhoto(quality) {\n",
              "      const div = document.createElement('div');\n",
              "      const capture = document.createElement('button');\n",
              "      capture.textContent = 'Capture';\n",
              "      div.appendChild(capture);\n",
              "\n",
              "      const video = document.createElement('video');\n",
              "      video.style.display = 'block';\n",
              "      const stream = await navigator.mediaDevices.getUserMedia({video: true});\n",
              "\n",
              "      document.body.appendChild(div);\n",
              "      div.appendChild(video);\n",
              "      \n",
              "\n",
              "      video.srcObject = stream;\n",
              "      await video.play();\n",
              "      // Resize the output to fit the video element.\n",
              "      google.colab.output.setIframeHeight(document.documentElement.scrollHeight, true);\n",
              "\n",
              "      //Display the red square\n",
              "      var minDim = Math.min(video.videoWidth, video.videoHeight);\n",
              "\n",
              "      const redBox = document.createElement('canvas');\n",
              "      redBox.width = video.videoWidth;\n",
              "      redBox.height = video.videoHeight;\n",
              "      redBox.style.position = 'relative';\n",
              "      redBox.style.top = `-${video.videoHeight}px`;\n",
              "      ctx = redBox.getContext('2d');\n",
              "      ctx.rect((video.videoWidth - minDim) / 2,\n",
              "               (video.videoHeight - minDim) / 2, \n",
              "               minDim, minDim);\n",
              "      ctx.lineWidth = \"6\";\n",
              "      ctx.strokeStyle = \"red\";\n",
              "      ctx.stroke();\n",
              "\n",
              "      div.appendChild(redBox);\n",
              "\n",
              "      // Wait for Capture to be clicked.\n",
              "      await new Promise((resolve) => capture.onclick = resolve);\n",
              "\n",
              "      const canvas = document.createElement('canvas');\n",
              "      canvas.width = video.videoWidth;\n",
              "      canvas.height = video.videoHeight;\n",
              "      canvas.getContext('2d').drawImage(video, 0, 0);\n",
              "\n",
              "      stream.getVideoTracks()[0].stop();\n",
              "      div.remove();\n",
              "      return canvas.toDataURL('image/jpeg', quality);\n",
              "    }\n",
              "    "
            ]
          },
          "metadata": {}
        },
        {
          "output_type": "stream",
          "name": "stdout",
          "text": [
            "Saved to photo.jpg\n",
            "1/1 [==============================] - 0s 41ms/step\n"
          ]
        },
        {
          "output_type": "display_data",
          "data": {
            "image/png": "[encoded data removed]",
            "text/plain": [
              "<IPython.core.display.Image object>"
            ]
          },
          "metadata": {}
        },
        {
          "output_type": "display_data",
          "data": {
            "text/plain": [
              "<pandas.io.formats.style.Styler at 0x7fa87ab6ed70>"
            ],
            "text/html": [
              "<style type=\"text/css\">\n",
              "</style>\n",
              "<table id=\"T_5cb18\" class=\"dataframe\">\n",
              "  <thead>\n",
              "    <tr>\n",
              "      <th id=\"T_5cb18_level0_col0\" class=\"col_heading level0 col0\" >A</th>\n",
              "      <th id=\"T_5cb18_level0_col1\" class=\"col_heading level0 col1\" >E</th>\n",
              "      <th id=\"T_5cb18_level0_col2\" class=\"col_heading level0 col2\" >I</th>\n",
              "      <th id=\"T_5cb18_level0_col3\" class=\"col_heading level0 col3\" >O</th>\n",
              "      <th id=\"T_5cb18_level0_col4\" class=\"col_heading level0 col4\" >U</th>\n",
              "      <th id=\"T_5cb18_level0_col5\" class=\"col_heading level0 col5\" >Nada</th>\n",
              "    </tr>\n",
              "  </thead>\n",
              "  <tbody>\n",
              "    <tr>\n",
              "      <td id=\"T_5cb18_row0_col0\" class=\"data row0 col0\" >0.00</td>\n",
              "      <td id=\"T_5cb18_row0_col1\" class=\"data row0 col1\" >0.00</td>\n",
              "      <td id=\"T_5cb18_row0_col2\" class=\"data row0 col2\" >0.00</td>\n",
              "      <td id=\"T_5cb18_row0_col3\" class=\"data row0 col3\" >0.00</td>\n",
              "      <td id=\"T_5cb18_row0_col4\" class=\"data row0 col4\" >0.00</td>\n",
              "      <td id=\"T_5cb18_row0_col5\" class=\"data row0 col5\" >100.00</td>\n",
              "    </tr>\n",
              "  </tbody>\n",
              "</table>\n"
            ]
          },
          "metadata": {}
        },
        {
          "output_type": "stream",
          "name": "stdout",
          "text": [
            "Predicción: 'Nada'\n",
            "\n"
          ]
        }
      ]
    }
  ]
}